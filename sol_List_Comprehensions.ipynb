{
  "cells": [
    {
      "cell_type": "markdown",
      "metadata": {
        "id": "Vep65igJd5U0"
      },
      "source": [
        "# List Comprehensions\n",
        "\n",
        "Complete the following set of exercises to solidify your knowledge of list comprehensions."
      ]
    },
    {
      "cell_type": "code",
      "execution_count": 1,
      "metadata": {
        "id": "s9fvHz4Wd5U-"
      },
      "outputs": [],
      "source": [
        "import os"
      ]
    },
    {
      "cell_type": "markdown",
      "metadata": {
        "id": "mCAJ5o0qd5VB"
      },
      "source": [
        "#### 1. Use a list comprehension to create and print a list of consecutive integers starting with 1 and ending with 50."
      ]
    },
    {
      "cell_type": "code",
      "execution_count": 2,
      "metadata": {
        "colab": {
          "base_uri": "https://localhost:8080/"
        },
        "id": "Oo1P4ke1d5VD",
        "outputId": "5712b258-9f2c-4500-b92e-ea5a6f8c3339"
      },
      "outputs": [
        {
          "output_type": "stream",
          "name": "stdout",
          "text": [
            "[1, 2, 3, 4, 5, 6, 7, 8, 9, 10, 11, 12, 13, 14, 15, 16, 17, 18, 19, 20, 21, 22, 23, 24, 25, 26, 27, 28, 29, 30, 31, 32, 33, 34, 35, 36, 37, 38, 39, 40, 41, 42, 43, 44, 45, 46, 47, 48, 49, 50]\n"
          ]
        }
      ],
      "source": [
        "#your code here\n",
        "numbers = [i for i in range(1, 51)]\n",
        "print(numbers)\n"
      ]
    },
    {
      "cell_type": "markdown",
      "metadata": {
        "id": "JZGxEzz9d5VF"
      },
      "source": [
        "#### 2. Use a list comprehension to create and print a list of even numbers starting with 2 and ending with 200."
      ]
    },
    {
      "cell_type": "code",
      "execution_count": 3,
      "metadata": {
        "colab": {
          "base_uri": "https://localhost:8080/"
        },
        "id": "gCFtnB2Gd5VH",
        "outputId": "41263b0d-ea4b-44cf-da71-59a4a9e62032"
      },
      "outputs": [
        {
          "output_type": "stream",
          "name": "stdout",
          "text": [
            "[2, 4, 6, 8, 10, 12, 14, 16, 18, 20, 22, 24, 26, 28, 30, 32, 34, 36, 38, 40, 42, 44, 46, 48, 50, 52, 54, 56, 58, 60, 62, 64, 66, 68, 70, 72, 74, 76, 78, 80, 82, 84, 86, 88, 90, 92, 94, 96, 98, 100, 102, 104, 106, 108, 110, 112, 114, 116, 118, 120, 122, 124, 126, 128, 130, 132, 134, 136, 138, 140, 142, 144, 146, 148, 150, 152, 154, 156, 158, 160, 162, 164, 166, 168, 170, 172, 174, 176, 178, 180, 182, 184, 186, 188, 190, 192, 194, 196, 198, 200]\n"
          ]
        }
      ],
      "source": [
        "#your code here\n",
        "even_numbers = [i for i in range(2, 201, 2)]\n",
        "print(even_numbers)\n"
      ]
    },
    {
      "cell_type": "markdown",
      "metadata": {
        "id": "5VY20daKd5VK"
      },
      "source": [
        "#### 3. Use a list comprehension to create and print a list containing all elements of the 10 x 4 array below."
      ]
    },
    {
      "cell_type": "code",
      "execution_count": 6,
      "metadata": {
        "id": "Jbj32qP0d5VM"
      },
      "outputs": [],
      "source": [
        "a = [[0.84062117, 0.48006452, 0.7876326 , 0.77109654],\n",
        "       [0.44409793, 0.09014516, 0.81835917, 0.87645456],\n",
        "       [0.7066597 , 0.09610873, 0.41247947, 0.57433389],\n",
        "       [0.29960807, 0.42315023, 0.34452557, 0.4751035 ],\n",
        "       [0.17003563, 0.46843998, 0.92796258, 0.69814654],\n",
        "       [0.41290051, 0.19561071, 0.16284783, 0.97016248],\n",
        "       [0.71725408, 0.87702738, 0.31244595, 0.76615487],\n",
        "       [0.20754036, 0.57871812, 0.07214068, 0.40356048],\n",
        "       [0.12149553, 0.53222417, 0.9976855 , 0.12536346],\n",
        "       [0.80930099, 0.50962849, 0.94555126, 0.33364763]];"
      ]
    },
    {
      "cell_type": "code",
      "execution_count": 7,
      "metadata": {
        "colab": {
          "base_uri": "https://localhost:8080/"
        },
        "id": "zO8V-L2vd5VP",
        "outputId": "5da82258-f808-4038-c194-b7a4ddb9eb0e"
      },
      "outputs": [
        {
          "output_type": "stream",
          "name": "stdout",
          "text": [
            "[0.84062117, 0.48006452, 0.7876326, 0.77109654, 0.44409793, 0.09014516, 0.81835917, 0.87645456, 0.7066597, 0.09610873, 0.41247947, 0.57433389, 0.29960807, 0.42315023, 0.34452557, 0.4751035, 0.17003563, 0.46843998, 0.92796258, 0.69814654, 0.41290051, 0.19561071, 0.16284783, 0.97016248, 0.71725408, 0.87702738, 0.31244595, 0.76615487, 0.20754036, 0.57871812, 0.07214068, 0.40356048, 0.12149553, 0.53222417, 0.9976855, 0.12536346, 0.80930099, 0.50962849, 0.94555126, 0.33364763]\n"
          ]
        }
      ],
      "source": [
        "#your code here\n",
        "flattened_list = [num for row in a for num in row]\n",
        "\n",
        "print(flattened_list)\n"
      ]
    },
    {
      "cell_type": "markdown",
      "metadata": {
        "id": "sCEExpqId5VR"
      },
      "source": [
        "#### 4. Add a condition to the list comprehension above so that only values greater than or equal to 0.5 are printed."
      ]
    },
    {
      "cell_type": "code",
      "execution_count": 8,
      "metadata": {
        "colab": {
          "base_uri": "https://localhost:8080/"
        },
        "id": "kUN389l9d5VS",
        "outputId": "4da36233-6d84-4443-dc86-0598d3d58537"
      },
      "outputs": [
        {
          "output_type": "stream",
          "name": "stdout",
          "text": [
            "[0.84062117, 0.7876326, 0.77109654, 0.81835917, 0.87645456, 0.7066597, 0.57433389, 0.92796258, 0.69814654, 0.97016248, 0.71725408, 0.87702738, 0.76615487, 0.57871812, 0.53222417, 0.9976855, 0.80930099, 0.50962849, 0.94555126]\n"
          ]
        }
      ],
      "source": [
        "#your code here\n",
        "filtered_list = [num for row in a for num in row if num >= 0.5]\n",
        "print(filtered_list)"
      ]
    },
    {
      "cell_type": "markdown",
      "metadata": {
        "id": "rN4MFVNYd5VT"
      },
      "source": [
        "#### 5. Use a list comprehension to create and print a list containing all elements of the 5 x 2 x 3 array below."
      ]
    },
    {
      "cell_type": "code",
      "execution_count": 10,
      "metadata": {
        "id": "m63xHQT3d5VU"
      },
      "outputs": [],
      "source": [
        "b = [[[0.55867166, 0.06210792, 0.08147297],\n",
        "        [0.82579068, 0.91512478, 0.06833034]],\n",
        "\n",
        "       [[0.05440634, 0.65857693, 0.30296619],\n",
        "        [0.06769833, 0.96031863, 0.51293743]],\n",
        "\n",
        "       [[0.09143215, 0.71893382, 0.45850679],\n",
        "        [0.58256464, 0.59005654, 0.56266457]],\n",
        "\n",
        "       [[0.71600294, 0.87392666, 0.11434044],\n",
        "        [0.8694668 , 0.65669313, 0.10708681]],\n",
        "\n",
        "       [[0.07529684, 0.46470767, 0.47984544],\n",
        "        [0.65368638, 0.14901286, 0.23760688]]];"
      ]
    },
    {
      "cell_type": "code",
      "execution_count": 11,
      "metadata": {
        "colab": {
          "base_uri": "https://localhost:8080/"
        },
        "id": "9R-q5Lo1d5VV",
        "outputId": "8e9bbdf0-30ae-4b49-cd5f-86a074e70ad2"
      },
      "outputs": [
        {
          "output_type": "stream",
          "name": "stdout",
          "text": [
            "[0.55867166, 0.06210792, 0.08147297, 0.82579068, 0.91512478, 0.06833034, 0.05440634, 0.65857693, 0.30296619, 0.06769833, 0.96031863, 0.51293743, 0.09143215, 0.71893382, 0.45850679, 0.58256464, 0.59005654, 0.56266457, 0.71600294, 0.87392666, 0.11434044, 0.8694668, 0.65669313, 0.10708681, 0.07529684, 0.46470767, 0.47984544, 0.65368638, 0.14901286, 0.23760688]\n"
          ]
        }
      ],
      "source": [
        "#your code here\n",
        "flattened_list = [num for sublist in b for row in sublist for num in row]\n",
        "print(flattened_list)"
      ]
    },
    {
      "cell_type": "markdown",
      "metadata": {
        "id": "pJ9HgOp_d5VW"
      },
      "source": [
        "#### 6. Add a condition to the list comprehension above so that the last value in each subarray is printed, but only if it is less than or equal to 0.5."
      ]
    },
    {
      "cell_type": "code",
      "execution_count": 12,
      "metadata": {
        "colab": {
          "base_uri": "https://localhost:8080/"
        },
        "id": "2zM9pPCGd5VW",
        "outputId": "962ae369-ca0f-4f81-8708-a81ca1759cec"
      },
      "outputs": [
        {
          "output_type": "stream",
          "name": "stdout",
          "text": [
            "[0.08147297, 0.06833034, 0.30296619, 0.45850679, 0.11434044, 0.10708681, 0.47984544, 0.23760688]\n"
          ]
        }
      ],
      "source": [
        "#your code here\n",
        "filtered_list = [row[-1] for sublist in b for row in sublist if row[-1] <= 0.5]\n",
        "print(filtered_list)\n"
      ]
    },
    {
      "cell_type": "markdown",
      "metadata": {
        "id": "3_87TXeid5VY"
      },
      "source": [
        "### Bonus"
      ]
    },
    {
      "cell_type": "markdown",
      "metadata": {
        "id": "nUPbohNzd5VZ"
      },
      "source": [
        "Try to solve these katas using list comprehensions."
      ]
    },
    {
      "cell_type": "markdown",
      "metadata": {
        "id": "FUFf_Dgvd5VZ"
      },
      "source": [
        "**Easy**\n",
        "- [Insert values](https://www.codewars.com/kata/invert-values)\n",
        "- [Sum Square(n)](https://www.codewars.com/kata/square-n-sum)\n",
        "- [Digitize](https://www.codewars.com/kata/digitize)\n",
        "- [List filtering](https://www.codewars.com/kata/list-filtering)\n",
        "- [Arithmetic list](https://www.codewars.com/kata/541da001259d9ca85d000688)\n",
        "\n",
        "**Medium**\n",
        "- [Multiples of 3 or 5](https://www.codewars.com/kata/514b92a657cdc65150000006)\n",
        "- [Count of positives / sum of negatives](https://www.codewars.com/kata/count-of-positives-slash-sum-of-negatives)\n",
        "- [Categorize new member](https://www.codewars.com/kata/5502c9e7b3216ec63c0001aa)\n",
        "\n",
        "**Advanced**\n",
        "- [Queue time counter](https://www.codewars.com/kata/queue-time-counter)"
      ]
    },
    {
      "cell_type": "markdown",
      "source": [
        "Easy\n",
        "\n",
        "Insert values"
      ],
      "metadata": {
        "id": "Xaba7e7ZjWQc"
      }
    },
    {
      "cell_type": "code",
      "source": [
        "b_inverted = [[[-x for x in row] for row in subarray] for subarray in b]\n",
        "print(b_inverted)\n"
      ],
      "metadata": {
        "colab": {
          "base_uri": "https://localhost:8080/"
        },
        "id": "Q9SB1fCFjUBt",
        "outputId": "6883bbbf-e7a9-45bb-cf19-82054592dfdf"
      },
      "execution_count": 17,
      "outputs": [
        {
          "output_type": "stream",
          "name": "stdout",
          "text": [
            "[[[-0.55867166, -0.06210792, -0.08147297], [-0.82579068, -0.91512478, -0.06833034]], [[-0.05440634, -0.65857693, -0.30296619], [-0.06769833, -0.96031863, -0.51293743]], [[-0.09143215, -0.71893382, -0.45850679], [-0.58256464, -0.59005654, -0.56266457]], [[-0.71600294, -0.87392666, -0.11434044], [-0.8694668, -0.65669313, -0.10708681]], [[-0.07529684, -0.46470767, -0.47984544], [-0.65368638, -0.14901286, -0.23760688]]]\n"
          ]
        }
      ]
    },
    {
      "cell_type": "markdown",
      "source": [
        "Sum Square(n)"
      ],
      "metadata": {
        "id": "0TI03RB3j0sn"
      }
    },
    {
      "cell_type": "code",
      "source": [
        "b_square_sum = sum(x**2 for subarray in b for row in subarray for x in row)\n",
        "print(b_square_sum)\n",
        "\n"
      ],
      "metadata": {
        "colab": {
          "base_uri": "https://localhost:8080/"
        },
        "id": "KKSLT1WIj2X8",
        "outputId": "14ae43d2-c524-4416-993f-90e3b58c837f"
      },
      "execution_count": 18,
      "outputs": [
        {
          "output_type": "stream",
          "name": "stdout",
          "text": [
            "8.750637581050272\n"
          ]
        }
      ]
    },
    {
      "cell_type": "markdown",
      "source": [
        "Digitize"
      ],
      "metadata": {
        "id": "0AF1USsrli6d"
      }
    },
    {
      "cell_type": "code",
      "source": [
        "b_digitized = [[list(map(int, str(int(x)) ))[::-1] for x in row] for subarray in b for row in subarray]\n",
        "print(b_digitized)\n"
      ],
      "metadata": {
        "colab": {
          "base_uri": "https://localhost:8080/"
        },
        "id": "hOVkyS7vlqhv",
        "outputId": "33f7ef62-8d70-4209-e151-50efe7e51ca2"
      },
      "execution_count": 20,
      "outputs": [
        {
          "output_type": "stream",
          "name": "stdout",
          "text": [
            "[[[0], [0], [0]], [[0], [0], [0]], [[0], [0], [0]], [[0], [0], [0]], [[0], [0], [0]], [[0], [0], [0]], [[0], [0], [0]], [[0], [0], [0]], [[0], [0], [0]], [[0], [0], [0]]]\n"
          ]
        }
      ]
    },
    {
      "cell_type": "markdown",
      "source": [
        "List filtering"
      ],
      "metadata": {
        "id": "TFefocPal5-F"
      }
    },
    {
      "cell_type": "code",
      "source": [
        "b_filtered = [[x for x in row if isinstance(x, float)] for subarray in b for row in subarray]\n",
        "print(b_filtered)\n"
      ],
      "metadata": {
        "colab": {
          "base_uri": "https://localhost:8080/"
        },
        "id": "_XbOyzQ4l6zb",
        "outputId": "ece5c1ab-2533-49eb-c812-35a5c7df911d"
      },
      "execution_count": 21,
      "outputs": [
        {
          "output_type": "stream",
          "name": "stdout",
          "text": [
            "[[0.55867166, 0.06210792, 0.08147297], [0.82579068, 0.91512478, 0.06833034], [0.05440634, 0.65857693, 0.30296619], [0.06769833, 0.96031863, 0.51293743], [0.09143215, 0.71893382, 0.45850679], [0.58256464, 0.59005654, 0.56266457], [0.71600294, 0.87392666, 0.11434044], [0.8694668, 0.65669313, 0.10708681], [0.07529684, 0.46470767, 0.47984544], [0.65368638, 0.14901286, 0.23760688]]\n"
          ]
        }
      ]
    },
    {
      "cell_type": "markdown",
      "source": [
        "Arithmetic list"
      ],
      "metadata": {
        "id": "0wtudNMjmAGu"
      }
    },
    {
      "cell_type": "code",
      "source": [
        "b_arithmetic = [[row[0] + i * (row[1] - row[0]) for i in range(len(row))] for subarray in b for row in subarray]\n",
        "print(b_arithmetic)\n",
        "\n"
      ],
      "metadata": {
        "colab": {
          "base_uri": "https://localhost:8080/"
        },
        "id": "eQI4yGWGmFn5",
        "outputId": "b1dca3e6-80b9-4f7f-ce41-d7004ad2930b"
      },
      "execution_count": 23,
      "outputs": [
        {
          "output_type": "stream",
          "name": "stdout",
          "text": [
            "[[0.55867166, 0.06210791999999998, -0.43445582000000005], [0.82579068, 0.91512478, 1.00445888], [0.05440634, 0.65857693, 1.26274752], [0.06769833, 0.96031863, 1.8529389299999999], [0.09143215, 0.71893382, 1.3464354899999997], [0.58256464, 0.59005654, 0.59754844], [0.71600294, 0.87392666, 1.0318503799999998], [0.8694668, 0.65669313, 0.44391945999999993], [0.07529684, 0.46470767, 0.8541185], [0.65368638, 0.14901286000000002, -0.35566065999999996]]\n"
          ]
        }
      ]
    },
    {
      "cell_type": "markdown",
      "source": [
        "Multiples of 3 or 5"
      ],
      "metadata": {
        "id": "E3KCQ1JImRR0"
      }
    },
    {
      "cell_type": "code",
      "source": [
        "multiples_of_3_or_5 = [x for subarray in b for row in subarray for x in row if (x % 3 == 0 or x % 5 == 0) and x.is_integer()]\n",
        "print(multiples_of_3_or_5)\n"
      ],
      "metadata": {
        "colab": {
          "base_uri": "https://localhost:8080/"
        },
        "id": "PfaCYobOmVsv",
        "outputId": "7e546b85-a34b-4dc7-c390-071a60791e3d"
      },
      "execution_count": 26,
      "outputs": [
        {
          "output_type": "stream",
          "name": "stdout",
          "text": [
            "[]\n"
          ]
        }
      ]
    },
    {
      "cell_type": "markdown",
      "source": [
        "Count of positives / sum of negatives"
      ],
      "metadata": {
        "id": "1143h6kemqIE"
      }
    },
    {
      "cell_type": "code",
      "source": [
        "positives_count = sum(1 for subarray in b for row in subarray for x in row if x > 0)\n",
        "negatives_sum = sum(x for subarray in b for row in subarray for x in row if x < 0)\n",
        "print(positives_count, negatives_sum)\n"
      ],
      "metadata": {
        "colab": {
          "base_uri": "https://localhost:8080/"
        },
        "id": "5opDoSj2mt0M",
        "outputId": "b454af57-c69f-43e6-ca83-f07fd568644e"
      },
      "execution_count": 27,
      "outputs": [
        {
          "output_type": "stream",
          "name": "stdout",
          "text": [
            "30 0\n"
          ]
        }
      ]
    },
    {
      "cell_type": "markdown",
      "source": [
        "Categorize new member"
      ],
      "metadata": {
        "id": "-aja3c_Xm2oE"
      }
    },
    {
      "cell_type": "code",
      "source": [
        "categorization = [\"Senior\" if x >= 55 and y > 7 else \"Open\" for subarray in b for row in subarray for x, y in zip(row[:-1], row[1:])]\n",
        "print(categorization)\n"
      ],
      "metadata": {
        "colab": {
          "base_uri": "https://localhost:8080/"
        },
        "id": "cNPPnENGmzWM",
        "outputId": "31aa2e54-8b74-46ed-c19d-7f1ee7381536"
      },
      "execution_count": 28,
      "outputs": [
        {
          "output_type": "stream",
          "name": "stdout",
          "text": [
            "['Open', 'Open', 'Open', 'Open', 'Open', 'Open', 'Open', 'Open', 'Open', 'Open', 'Open', 'Open', 'Open', 'Open', 'Open', 'Open', 'Open', 'Open', 'Open', 'Open']\n"
          ]
        }
      ]
    },
    {
      "cell_type": "markdown",
      "source": [
        " Queue Time Counter\n"
      ],
      "metadata": {
        "id": "dKBLm4Iem7d7"
      }
    },
    {
      "cell_type": "code",
      "source": [
        "queue_time = max([0] * 3)\n",
        "print(queue_time)\n"
      ],
      "metadata": {
        "colab": {
          "base_uri": "https://localhost:8080/"
        },
        "id": "qyB8cJFrnBTH",
        "outputId": "72a6f73a-1850-475c-c784-d8a7a354a5fd"
      },
      "execution_count": 29,
      "outputs": [
        {
          "output_type": "stream",
          "name": "stdout",
          "text": [
            "0\n"
          ]
        }
      ]
    }
  ],
  "metadata": {
    "kernelspec": {
      "display_name": "Python 3 (ipykernel)",
      "language": "python",
      "name": "python3"
    },
    "language_info": {
      "codemirror_mode": {
        "name": "ipython",
        "version": 3
      },
      "file_extension": ".py",
      "mimetype": "text/x-python",
      "name": "python",
      "nbconvert_exporter": "python",
      "pygments_lexer": "ipython3",
      "version": "3.9.13"
    },
    "vscode": {
      "interpreter": {
        "hash": "aee8b7b246df8f9039afb4144a1f6fd8d2ca17a180786b69acc140d282b71a49"
      }
    },
    "colab": {
      "provenance": []
    }
  },
  "nbformat": 4,
  "nbformat_minor": 0
}